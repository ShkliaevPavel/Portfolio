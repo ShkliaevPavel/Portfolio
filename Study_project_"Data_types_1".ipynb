{
  "cells": [
    {
      "cell_type": "markdown",
      "metadata": {
        "id": "view-in-github",
        "colab_type": "text"
      },
      "source": [
        "<a href=\"https://colab.research.google.com/github/ShkliaevPavel/Portfolio/blob/Python/Study_project_%22Data_types_1%22.ipynb\" target=\"_parent\"><img src=\"https://colab.research.google.com/assets/colab-badge.svg\" alt=\"Open In Colab\"/></a>"
      ]
    },
    {
      "cell_type": "markdown",
      "metadata": {
        "id": "vWzrMQvDs7Zt"
      },
      "source": [
        "Exercise 1\n",
        "\n",
        "A variable is given that stores a word made up of Latin letters.\n",
        "\n",
        "Write the code that displays:\n",
        "* middle letter, if the number of letters in the word is odd;\n",
        "* two middle letters if the number of letters is even."
      ]
    },
    {
      "cell_type": "code",
      "source": [
        "import re\n",
        "\n",
        "word = input('Enter a word in latin letters: ')\n",
        "if re.search('[a-zA-Z]', word):\n",
        "    print(word[len(word) // 2 - 1] + word[len(word) // 2]) if len(word) % 2 == 0 else print(word[len(word) // 2])\n",
        "else: print('Error, use latin letters')"
      ],
      "metadata": {
        "id": "gQlKV84Pv-p2",
        "colab": {
          "base_uri": "https://localhost:8080/"
        },
        "outputId": "614a6971-0d6a-46a9-d74e-cf36c5069fd7"
      },
      "execution_count": 1,
      "outputs": [
        {
          "output_type": "stream",
          "name": "stdout",
          "text": [
            "Enter a word in latin letters: test\n",
            "es\n"
          ]
        }
      ]
    },
    {
      "cell_type": "code",
      "source": [
        "word = input('Enter a word in latin letters: ')\n",
        "print(word[(len(word)-1)//2:(len(word)+2)//2])"
      ],
      "metadata": {
        "colab": {
          "base_uri": "https://localhost:8080/"
        },
        "id": "oVHLC1Uzrd2b",
        "outputId": "390de021-6571-4b6d-b880-fc41dbe39a62"
      },
      "execution_count": 2,
      "outputs": [
        {
          "output_type": "stream",
          "name": "stdout",
          "text": [
            "Enter a word in latin letters: testing\n",
            "t\n"
          ]
        }
      ]
    },
    {
      "cell_type": "markdown",
      "source": [
        "Task 2\n",
        "\n",
        "Write a program that prompts the user for numbers sequentially (one at a time) and after the first zero prints the sum of all previously entered numbers."
      ],
      "metadata": {
        "id": "F6B5Q1MYV3Ck"
      }
    },
    {
      "cell_type": "code",
      "source": [
        "number = True\n",
        "sum_ = 0\n",
        "\n",
        "while number != 0:\n",
        "  number = float(input('Enter a number: '))\n",
        "  sum_ += number\n",
        "\n",
        "print('Result: ', sum_)"
      ],
      "metadata": {
        "colab": {
          "base_uri": "https://localhost:8080/"
        },
        "id": "4_oSe517t1GP",
        "outputId": "18009f8e-757f-4d30-b281-c04e997a7ed7"
      },
      "execution_count": 7,
      "outputs": [
        {
          "output_type": "stream",
          "name": "stdout",
          "text": [
            "Enter a number: 1\n",
            "Enter a number: 2\n",
            "Enter a number: 3\n",
            "Enter a number: 00\n",
            "Result:  6.0\n"
          ]
        }
      ]
    },
    {
      "cell_type": "markdown",
      "source": [
        "Task 3\n",
        "\n",
        "We are making an MVP of a dating service, and we have a list of guys and girls.\n",
        "\n",
        "Let's hypothesize: we'll get better recommendations if we simply sort the names alphabetically and introduce people to the same indexes after sorting!\n",
        "\n",
        "But we won’t introduce anyone if someone might be left without a date:"
      ],
      "metadata": {
        "id": "t0B12AK8gQRI"
      }
    },
    {
      "cell_type": "code",
      "source": [
        "boys = ['Peter', 'Alex', 'John', 'Arthur', 'Richard']\n",
        "girls = ['Kate', 'Liza', 'Kira', 'Emma', 'Trisha']\n",
        "\n",
        "#boys = ['Peter', 'Alex', 'John', 'Arthur', 'Richard', 'Michael']\n",
        "#girls = ['Kate', 'Liza', 'Kira', 'Emma', 'Trisha']"
      ],
      "metadata": {
        "id": "Uv6M-jXYgPur"
      },
      "execution_count": null,
      "outputs": []
    },
    {
      "cell_type": "code",
      "source": [
        "if len(boys) == len(girls):\n",
        "    for boy_name, girl_name in zip(sorted(boys), sorted(girls)):\n",
        "      print(f'{boy_name} и {girl_name}')\n",
        "else: print('Внимание, кто-то может остаться без пары!')"
      ],
      "metadata": {
        "id": "oYCAcm_vihXw"
      },
      "execution_count": null,
      "outputs": []
    },
    {
      "cell_type": "markdown",
      "source": [
        "Task 4\n",
        "\n",
        "We have a list containing information about the average daily temperature in Fahrenheit for an arbitrary period by country (data structure in the example).\n",
        "\n",
        "You need to write a code that will calculate the average temperature over a period in Celsius(!) for each country."
      ],
      "metadata": {
        "id": "pZ4OhIwikLZH"
      }
    },
    {
      "cell_type": "code",
      "source": [
        "countries_temperature = [\n",
        "    ['Thailand', [75.2, 77, 78.8, 73.4, 68, 75.2, 77]],\n",
        "    ['Germany', [57.2, 55.4, 59, 59, 53.6]],\n",
        "    ['Russia', [35.6, 37.4, 39.2, 41, 42.8, 39.2, 35.6]],\n",
        "    ['Poland', [50, 50, 53.6, 57.2, 55.4, 55.4]]\n",
        "]"
      ],
      "metadata": {
        "id": "hD21ndpokU78"
      },
      "execution_count": 8,
      "outputs": []
    },
    {
      "cell_type": "code",
      "source": [
        "for country, temperature in countries_temperature:\n",
        "    sum_temp_C = 0\n",
        "    for each_temp in temperature:\n",
        "        sum_temp_C += (each_temp - 32)*5/9\n",
        "    print(f'{country} - {round(sum_temp_C/len(temperature),1)} C')"
      ],
      "metadata": {
        "id": "VNp24iXesm9f",
        "colab": {
          "base_uri": "https://localhost:8080/"
        },
        "outputId": "688f11e4-2a58-4af3-800e-76491c68e89f"
      },
      "execution_count": 9,
      "outputs": [
        {
          "output_type": "stream",
          "name": "stdout",
          "text": [
            "Thailand - 23.9 C\n",
            "Germany - 13.8 C\n",
            "Russia - 3.7 C\n",
            "Poland - 12.0 C\n"
          ]
        }
      ]
    },
    {
      "cell_type": "markdown",
      "source": [
        "Task 5\n",
        "\n",
        "There is a list with transport numbers. You need to write a code that will check each number for validity (1 letter, 3 numbers, 2 letters, 2-3 numbers).\n",
        "\n",
        "Please note that not all letters of the Cyrillic alphabet are used in transport numbers.\n",
        "\n",
        "If the number is valid, then display it in the required format (example below), and if it is not valid, display the text.\n",
        "\n",
        "Regular expressions, which you will become familiar with in practice, will help you solve this problem."
      ],
      "metadata": {
        "id": "vvj-98e-IdlV"
      }
    },
    {
      "cell_type": "code",
      "source": [
        "car_ids = ['А222ВС96', 'АБ22ВВ193', 'с123кк95', 'М123ОК22', 's456ОК123']"
      ],
      "metadata": {
        "id": "4eH5KwndIgo4"
      },
      "execution_count": null,
      "outputs": []
    },
    {
      "cell_type": "code",
      "source": [
        "for each_id in car_ids:\n",
        "    pattern = '([АВЕКМНОРСТУХавекмнорстух]{1})(\\d{3})([АВЕКМНОРСТУХавекмнорстух]{2})(\\d{2,3})'\n",
        "    match_ = re.search(pattern, each_id)\n",
        "    if match_: print(f'Номер {match_.group(1)}{match_.group(2)}{match_.group(3)} валиден. Регион: {match_.group(4)}')\n",
        "    else: print(f'Номер {each_id} не валиден')"
      ],
      "metadata": {
        "id": "jj0BPj6xSBRp"
      },
      "execution_count": null,
      "outputs": []
    },
    {
      "cell_type": "markdown",
      "source": [
        "Task 6\n",
        "\n",
        "A stream of logs is given for the number of pages viewed for each user (user, date, views).\n",
        "\n",
        "You need to write an algorithm that calculates the average of views per user.\n",
        "\n",
        "That is, you need to calculate the ratio of the sum of all views to the number of unique users.\n",
        "\n",
        "And here regular expressions will make implementation a little easier."
      ],
      "metadata": {
        "id": "x2tVEMiQUz_D"
      }
    },
    {
      "cell_type": "code",
      "source": [
        "stream = [\n",
        "    'user4,2021-01-01;3',\n",
        "    'user3,2022-01-07;4',\n",
        "    'user2,2022-03-29;1',\n",
        "    'user1,2020-04-04;13',\n",
        "    'user2,2022-01-05;7',\n",
        "    'user1,2021-06-14;4',\n",
        "    'user3,2022-07-02;10',\n",
        "    'user4,2021-03-21;19',\n",
        "    'user4,2022-03-22;4',\n",
        "    'user4,2022-04-22;8',\n",
        "    'user4,2021-05-03;9',\n",
        "    'user4,2022-05-11;11',\n",
        "    ]"
      ],
      "metadata": {
        "id": "ZxSX_uO7U3UV"
      },
      "execution_count": 10,
      "outputs": []
    },
    {
      "cell_type": "code",
      "source": [
        "stream = [\n",
        "    'user100,2022-01-01;150',\n",
        "    'user99,2022-01-07;205',\n",
        "    'user1001,2022-03-29;81'\n",
        "]"
      ],
      "metadata": {
        "id": "-SZ-D-GB-yLQ"
      },
      "execution_count": 11,
      "outputs": []
    },
    {
      "cell_type": "code",
      "source": [
        "import re\n",
        "\n",
        "sum_ = 0\n",
        "res = []\n",
        "for el in stream:\n",
        "    pattern_view = re.search(';(\\d{1,})', el)\n",
        "    pattern_user = re.search('(user)(\\d{1,})', el)\n",
        "    if pattern_view:\n",
        "      sum_ += int(pattern_view.group(1))\n",
        "    if pattern_user and pattern_user.group(2) not in res: res.append(pattern_user.group(2))\n",
        "\n",
        "print(f'Average amount of views per unique user: {round(sum_ / len(res),2)}')"
      ],
      "metadata": {
        "id": "XzzIpr_O_1LS",
        "colab": {
          "base_uri": "https://localhost:8080/"
        },
        "outputId": "9f87928d-3908-4072-f542-f200f6449a4a"
      },
      "execution_count": 12,
      "outputs": [
        {
          "output_type": "stream",
          "name": "stdout",
          "text": [
            "Average amount of views per unique user: 145.33\n"
          ]
        }
      ]
    },
    {
      "cell_type": "code",
      "source": [
        "total_views = sum([int(re.split('[,;]', element)[2]) for element in stream])\n",
        "no_of_views = len(set([re.split('[,;]', element)[0] for element in stream]))"
      ],
      "metadata": {
        "colab": {
          "base_uri": "https://localhost:8080/",
          "height": 192
        },
        "id": "j0eQbQQn5ohX",
        "outputId": "8f5092a2-985e-4dd4-9710-33dd7602149e"
      },
      "execution_count": null,
      "outputs": [
        {
          "output_type": "error",
          "ename": "TypeError",
          "evalue": "'float' object is not callable",
          "traceback": [
            "\u001b[0;31m---------------------------------------------------------------------------\u001b[0m",
            "\u001b[0;31mTypeError\u001b[0m                                 Traceback (most recent call last)",
            "\u001b[0;32m<ipython-input-40-8ce319609fd3>\u001b[0m in \u001b[0;36m<cell line: 1>\u001b[0;34m()\u001b[0m\n\u001b[0;32m----> 1\u001b[0;31m \u001b[0mtotal_views\u001b[0m \u001b[0;34m=\u001b[0m \u001b[0msum\u001b[0m\u001b[0;34m(\u001b[0m\u001b[0;34m[\u001b[0m\u001b[0mint\u001b[0m\u001b[0;34m(\u001b[0m\u001b[0mre\u001b[0m\u001b[0;34m.\u001b[0m\u001b[0msplit\u001b[0m\u001b[0;34m(\u001b[0m\u001b[0;34m'[,;]'\u001b[0m\u001b[0;34m,\u001b[0m \u001b[0melement\u001b[0m\u001b[0;34m)\u001b[0m\u001b[0;34m[\u001b[0m\u001b[0;36m2\u001b[0m\u001b[0;34m]\u001b[0m\u001b[0;34m)\u001b[0m \u001b[0;32mfor\u001b[0m \u001b[0melement\u001b[0m \u001b[0;32min\u001b[0m \u001b[0mstream\u001b[0m\u001b[0;34m]\u001b[0m\u001b[0;34m)\u001b[0m\u001b[0;34m\u001b[0m\u001b[0;34m\u001b[0m\u001b[0m\n\u001b[0m\u001b[1;32m      2\u001b[0m \u001b[0mno_of_views\u001b[0m \u001b[0;34m=\u001b[0m \u001b[0mlen\u001b[0m\u001b[0;34m(\u001b[0m\u001b[0mset\u001b[0m\u001b[0;34m(\u001b[0m\u001b[0;34m[\u001b[0m\u001b[0mre\u001b[0m\u001b[0;34m.\u001b[0m\u001b[0msplit\u001b[0m\u001b[0;34m(\u001b[0m\u001b[0;34m'[,;]'\u001b[0m\u001b[0;34m,\u001b[0m \u001b[0melement\u001b[0m\u001b[0;34m)\u001b[0m\u001b[0;34m[\u001b[0m\u001b[0;36m0\u001b[0m\u001b[0;34m]\u001b[0m \u001b[0;32mfor\u001b[0m \u001b[0melement\u001b[0m \u001b[0;32min\u001b[0m \u001b[0mstream\u001b[0m\u001b[0;34m]\u001b[0m\u001b[0;34m)\u001b[0m\u001b[0;34m)\u001b[0m\u001b[0;34m\u001b[0m\u001b[0;34m\u001b[0m\u001b[0m\n",
            "\u001b[0;31mTypeError\u001b[0m: 'float' object is not callable"
          ]
        }
      ]
    },
    {
      "cell_type": "code",
      "source": [
        "total_views = sum([int(re.split('[,;]', element)[2]) for element in stream])\n",
        "no_of_users = len(set([re.split('[,;]', element)[0] for element in stream]))"
      ],
      "metadata": {
        "colab": {
          "base_uri": "https://localhost:8080/",
          "height": 192
        },
        "id": "XLGD89Mv6WjZ",
        "outputId": "8a75e0ec-6137-498e-e810-dba0c1235498"
      },
      "execution_count": null,
      "outputs": [
        {
          "output_type": "error",
          "ename": "TypeError",
          "evalue": "'float' object is not callable",
          "traceback": [
            "\u001b[0;31m---------------------------------------------------------------------------\u001b[0m",
            "\u001b[0;31mTypeError\u001b[0m                                 Traceback (most recent call last)",
            "\u001b[0;32m<ipython-input-30-aa1d29634793>\u001b[0m in \u001b[0;36m<cell line: 1>\u001b[0;34m()\u001b[0m\n\u001b[0;32m----> 1\u001b[0;31m \u001b[0mtotal_views\u001b[0m \u001b[0;34m=\u001b[0m \u001b[0msum\u001b[0m\u001b[0;34m(\u001b[0m\u001b[0;34m[\u001b[0m\u001b[0mint\u001b[0m\u001b[0;34m(\u001b[0m\u001b[0mre\u001b[0m\u001b[0;34m.\u001b[0m\u001b[0msplit\u001b[0m\u001b[0;34m(\u001b[0m\u001b[0;34m'[,;]'\u001b[0m\u001b[0;34m,\u001b[0m \u001b[0melement\u001b[0m\u001b[0;34m)\u001b[0m\u001b[0;34m[\u001b[0m\u001b[0;36m2\u001b[0m\u001b[0;34m]\u001b[0m\u001b[0;34m)\u001b[0m \u001b[0;32mfor\u001b[0m \u001b[0melement\u001b[0m \u001b[0;32min\u001b[0m \u001b[0mstream\u001b[0m\u001b[0;34m]\u001b[0m\u001b[0;34m)\u001b[0m\u001b[0;34m\u001b[0m\u001b[0;34m\u001b[0m\u001b[0m\n\u001b[0m\u001b[1;32m      2\u001b[0m \u001b[0mno_of_users\u001b[0m \u001b[0;34m=\u001b[0m \u001b[0mlen\u001b[0m\u001b[0;34m(\u001b[0m\u001b[0mset\u001b[0m\u001b[0;34m(\u001b[0m\u001b[0;34m[\u001b[0m\u001b[0mre\u001b[0m\u001b[0;34m.\u001b[0m\u001b[0msplit\u001b[0m\u001b[0;34m(\u001b[0m\u001b[0;34m'[,;]'\u001b[0m\u001b[0;34m,\u001b[0m \u001b[0melement\u001b[0m\u001b[0;34m)\u001b[0m\u001b[0;34m[\u001b[0m\u001b[0;36m0\u001b[0m\u001b[0;34m]\u001b[0m \u001b[0;32mfor\u001b[0m \u001b[0melement\u001b[0m \u001b[0;32min\u001b[0m \u001b[0mstream\u001b[0m\u001b[0;34m]\u001b[0m\u001b[0;34m)\u001b[0m\u001b[0;34m)\u001b[0m\u001b[0;34m\u001b[0m\u001b[0;34m\u001b[0m\u001b[0m\n",
            "\u001b[0;31mTypeError\u001b[0m: 'float' object is not callable"
          ]
        }
      ]
    }
  ],
  "metadata": {
    "colab": {
      "provenance": [],
      "authorship_tag": "ABX9TyMvpYdl/gBRSocu0eWITBN6",
      "include_colab_link": true
    },
    "kernelspec": {
      "display_name": "Python 3",
      "name": "python3"
    },
    "language_info": {
      "name": "python"
    }
  },
  "nbformat": 4,
  "nbformat_minor": 0
}