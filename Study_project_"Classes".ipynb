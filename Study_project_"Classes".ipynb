{
  "nbformat": 4,
  "nbformat_minor": 0,
  "metadata": {
    "colab": {
      "provenance": [],
      "authorship_tag": "ABX9TyO+TS5xJnpclrhyFf8YNIa/",
      "include_colab_link": true
    },
    "kernelspec": {
      "name": "python3",
      "display_name": "Python 3"
    },
    "language_info": {
      "name": "python"
    }
  },
  "cells": [
    {
      "cell_type": "markdown",
      "metadata": {
        "id": "view-in-github",
        "colab_type": "text"
      },
      "source": [
        "<a href=\"https://colab.research.google.com/github/ShkliaevPavel/Portfolio/blob/Python/Study_project_%22Classes%22.ipynb\" target=\"_parent\"><img src=\"https://colab.research.google.com/assets/colab-badge.svg\" alt=\"Open In Colab\"/></a>"
      ]
    },
    {
      "cell_type": "code",
      "source": [
        "import requests\n",
        "\n",
        "def my_sum(x, y):\n",
        "    return x+y\n",
        "\n",
        "class Rate:\n",
        "    def __init__(self, format_='value'):\n",
        "        self.format = format_\n",
        "\n",
        "    def exchange_rates(self):\n",
        "        \"\"\"\n",
        "        Возвращает ответ сервиса с информацией о валютах в виде:\n",
        "\n",
        "        {\n",
        "            'AMD': {\n",
        "                'CharCode': 'AMD',\n",
        "                'ID': 'R01060',\n",
        "                'Name': 'Армянских драмов',\n",
        "                'Nominal': 100,\n",
        "                'NumCode': '051',\n",
        "                'Previous': 14.103,\n",
        "                'Value': 14.0879\n",
        "                },\n",
        "            ...\n",
        "        }\n",
        "        \"\"\"\n",
        "        self.r = requests.get('https://www.cbr-xml-daily.ru/daily_json.js')\n",
        "        return self.r.json()['Valute']\n",
        "\n",
        "    def make_format(self, currency):\n",
        "        \"\"\"\n",
        "        Возвращает информацию о валюте currency в двух вариантах:\n",
        "        - полная информация о валюте при self.format = 'full':\n",
        "        Rate('full').make_format('EUR')\n",
        "        {\n",
        "            'CharCode': 'EUR',\n",
        "            'ID': 'R01239',\n",
        "            'Name': 'Евро',\n",
        "            'Nominal': 1,\n",
        "            'NumCode': '978',\n",
        "            'Previous': 79.6765,\n",
        "            'Value': 79.4966\n",
        "        }\n",
        "\n",
        "        Rate('value').make_format('EUR')\n",
        "        79.4966\n",
        "        \"\"\"\n",
        "        response = self.exchange_rates()\n",
        "\n",
        "        if currency in response:\n",
        "            if self.format == 'full':\n",
        "                return response[currency]\n",
        "\n",
        "            if self.format == 'value':\n",
        "                return response[currency]['Value']\n",
        "\n",
        "        return 'Error'\n",
        "\n",
        "    def eur(self):\n",
        "        \"\"\"Возвращает курс евро на сегодня в формате self.format\"\"\"\n",
        "        return self.make_format('EUR')\n",
        "\n",
        "    def usd(self):\n",
        "        \"\"\"Возвращает курс доллара на сегодня в формате self.format\"\"\"\n",
        "        return self.make_format('USD')\n",
        "\n",
        "    def AZN(self):\n",
        "        \"\"\"Возвращает курс азербайджанского маната на сегодня в формате self.format\"\"\"\n",
        "        return self.make_format('AZN')"
      ],
      "metadata": {
        "id": "nRgGdOki5XaR"
      },
      "execution_count": null,
      "outputs": []
    },
    {
      "cell_type": "markdown",
      "source": [
        "Exercise 1\n",
        "\n",
        "Write a function that returns the name of the currency (‘Name’ field) with the maximum exchange rate using the service www.cbr-xml-daily.ru...ly_json.js"
      ],
      "metadata": {
        "id": "5UftRCL-3OYK"
      }
    },
    {
      "cell_type": "code",
      "source": [
        "class CurrencyCodes(Rate):\n",
        "    def __init__(self):\n",
        "        super().__init__(format_='full')\n",
        "\n",
        "    def currency_id(self, currency):\n",
        "        \"\"\"Получение идентификатора валюты\"\"\"\n",
        "        return self.make_format(currency)['ID']\n",
        "\n",
        "    def max_value(self):\n",
        "      \"\"\"Возвращает название валюты (поле ‘Name’) с максимальным значением курса\"\"\"\n",
        "      r = Rate()\n",
        "      curr_list = r.exchange_rates()\n",
        "      new_dic = {}\n",
        "      for each_valute in curr_list.values():\n",
        "        key = each_valute['Name']\n",
        "        value = each_valute['Value']\n",
        "        new_dic[key] = value\n",
        "      print(max(new_dic, key=new_dic.get))"
      ],
      "metadata": {
        "id": "nSMqJ7SA7aBv"
      },
      "execution_count": null,
      "outputs": []
    },
    {
      "cell_type": "code",
      "source": [
        "cc = CurrencyCodes()"
      ],
      "metadata": {
        "id": "6q0JdEHoDTZn"
      },
      "execution_count": null,
      "outputs": []
    },
    {
      "cell_type": "code",
      "source": [
        "cc.max_value()"
      ],
      "metadata": {
        "colab": {
          "base_uri": "https://localhost:8080/"
        },
        "id": "oaVaFmSzDaSG",
        "outputId": "821eb8cd-05d9-4a7f-d508-cba80195b614"
      },
      "execution_count": null,
      "outputs": [
        {
          "output_type": "stream",
          "name": "stdout",
          "text": [
            "СДР (специальные права заимствования)\n"
          ]
        }
      ]
    },
    {
      "cell_type": "markdown",
      "source": [
        "Task 2\n",
        "\n",
        "Add a diff parameter to the \"Rate\" class (with True or False values), which, if True in the currency rate methods (eur, usd, etc.), will return not the currency rate, but the change compared to the previous value.\n",
        "\n",
        "Consider that self.diff will only evaluate to True when returning a course value.\n",
        "\n",
        "It is not used when displaying all currency information."
      ],
      "metadata": {
        "id": "ZiLt25niRKUB"
      }
    },
    {
      "cell_type": "code",
      "source": [
        "def my_sum(x, y):\n",
        "    return x+y\n",
        "\n",
        "class Rate:\n",
        "    def __init__(self, format_='value', check = 'True'): #Добавлен параметр check\n",
        "        self.format = format_\n",
        "        self.check = check\n",
        "\n",
        "    def exchange_rates(self):\n",
        "        \"\"\"\n",
        "        Возвращает ответ сервиса с информацией о валютах в виде:\n",
        "\n",
        "        {\n",
        "            'AMD': {\n",
        "                'CharCode': 'AMD',\n",
        "                'ID': 'R01060',\n",
        "                'Name': 'Армянских драмов',\n",
        "                'Nominal': 100,\n",
        "                'NumCode': '051',\n",
        "                'Previous': 14.103,\n",
        "                'Value': 14.0879\n",
        "                },\n",
        "            ...\n",
        "        }\n",
        "        \"\"\"\n",
        "        self.r = requests.get('https://www.cbr-xml-daily.ru/daily_json.js')\n",
        "        return self.r.json()['Valute']\n",
        "\n",
        "    def diff(self, check): #Добавлен метод diff\n",
        "        self.check = check\n",
        "\n",
        "    def make_format(self, currency):\n",
        "        \"\"\"\n",
        "        Возвращает информацию о валюте currency в двух вариантах:\n",
        "        - полная информация о валюте при self.format = 'full':\n",
        "        Rate('full').make_format('EUR')\n",
        "        {\n",
        "            'CharCode': 'EUR',\n",
        "            'ID': 'R01239',\n",
        "            'Name': 'Евро',\n",
        "            'Nominal': 1,\n",
        "            'NumCode': '978',\n",
        "            'Previous': 79.6765,\n",
        "            'Value': 79.4966\n",
        "        }\n",
        "\n",
        "        Rate('value').make_format('EUR')\n",
        "        79.4966\n",
        "        \"\"\"\n",
        "        response = self.exchange_rates()\n",
        "\n",
        "        if currency in response:\n",
        "            if self.format == 'full':\n",
        "                return response[currency]\n",
        "\n",
        "            if self.format == 'value':\n",
        "              if self.check == 'True':\n",
        "                diff_update = round(response[currency]['Value'] - response[currency]['Previous'],4)\n",
        "                return diff_update\n",
        "              else:\n",
        "                return response[currency]['Value']\n",
        "\n",
        "        return 'Error'\n",
        "\n",
        "    def eur(self):\n",
        "        \"\"\"Возвращает курс евро на сегодня в формате self.format\"\"\"\n",
        "        return self.make_format('EUR')\n",
        "\n",
        "    def usd(self):\n",
        "        \"\"\"Возвращает курс доллара на сегодня в формате self.format\"\"\"\n",
        "        return self.make_format('USD')\n",
        "\n",
        "    def AZN(self):\n",
        "        \"\"\"Возвращает курс азербайджанского маната на сегодня в формате self.format\"\"\"\n",
        "        return self.make_format('AZN')"
      ],
      "metadata": {
        "id": "t4PzsDOvRJj-"
      },
      "execution_count": null,
      "outputs": []
    },
    {
      "cell_type": "code",
      "source": [
        "Rate('value', 'True').eur()"
      ],
      "metadata": {
        "colab": {
          "base_uri": "https://localhost:8080/"
        },
        "id": "i_QGGGFvVfOL",
        "outputId": "999b9199-7fca-4545-ab75-7cf41b379b1b"
      },
      "execution_count": null,
      "outputs": [
        {
          "output_type": "execute_result",
          "data": {
            "text/plain": [
              "-0.4179"
            ]
          },
          "metadata": {},
          "execution_count": 68
        }
      ]
    },
    {
      "cell_type": "markdown",
      "source": [
        "Task 3\n",
        "\n",
        "Write a Designer class that takes into account the number of international awards."
      ],
      "metadata": {
        "id": "DHYV8R4EZsW-"
      }
    },
    {
      "cell_type": "code",
      "source": [
        "class Employee:\n",
        "    def __init__(self, name, seniority, awards): #Добавлен параметр awards\n",
        "        self.name = name\n",
        "        self.seniority = seniority\n",
        "        self.awards = awards\n",
        "\n",
        "        self.grade = 1\n",
        "\n",
        "    def grade_up(self):\n",
        "        \"\"\"Повышает уровень сотрудника\"\"\"\n",
        "        self.grade += 1\n",
        "\n",
        "    def publish_grade(self):\n",
        "        \"\"\"Публикация результатов аккредитации сотрудников\"\"\"\n",
        "        print(self.name, self.grade)\n",
        "\n",
        "    def check_if_it_is_time_for_upgrade(self):\n",
        "        pass"
      ],
      "metadata": {
        "id": "gdleDO6GZwyv"
      },
      "execution_count": null,
      "outputs": []
    },
    {
      "cell_type": "code",
      "source": [
        "class Designer(Employee):\n",
        "    def __init__(self, name, seniority, awards):\n",
        "        super().__init__(name, seniority, awards)\n",
        "\n",
        "    def check_if_it_is_time_for_upgrade(self):\n",
        "        if self.seniority==0:\n",
        "            self.seniority=1+self.awards*2\n",
        "        else:\n",
        "            self.seniority+= 1\n",
        "        if self.seniority % 7==0:\n",
        "                self.grade_up()\n",
        "\n",
        "        return self.publish_grade()"
      ],
      "metadata": {
        "id": "OKX7yOLbipP0"
      },
      "execution_count": null,
      "outputs": []
    },
    {
      "cell_type": "code",
      "source": [
        "Pavel = Designer('Pavel', seniority=0, awards=2)"
      ],
      "metadata": {
        "id": "79FWlEjmgdE8"
      },
      "execution_count": null,
      "outputs": []
    },
    {
      "cell_type": "code",
      "source": [
        "for i in range(10):\n",
        "    Pavel.check_if_it_is_time_for_upgrade()"
      ],
      "metadata": {
        "colab": {
          "base_uri": "https://localhost:8080/"
        },
        "id": "rIg_toXGg_kM",
        "outputId": "1d4033c8-51b0-4c17-9316-4dd1c6eb8e43"
      },
      "execution_count": null,
      "outputs": [
        {
          "output_type": "stream",
          "name": "stdout",
          "text": [
            "Pavel 1\n",
            "Pavel 1\n",
            "Pavel 2\n",
            "Pavel 2\n",
            "Pavel 2\n",
            "Pavel 2\n",
            "Pavel 2\n",
            "Pavel 2\n",
            "Pavel 2\n",
            "Pavel 3\n"
          ]
        }
      ]
    }
  ]
}