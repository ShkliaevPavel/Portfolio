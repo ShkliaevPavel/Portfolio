{
  "nbformat": 4,
  "nbformat_minor": 0,
  "metadata": {
    "colab": {
      "provenance": [],
      "authorship_tag": "ABX9TyOVIb7hFuLgWMZ/4C6GTtQf",
      "include_colab_link": true
    },
    "kernelspec": {
      "name": "python3",
      "display_name": "Python 3"
    },
    "language_info": {
      "name": "python"
    }
  },
  "cells": [
    {
      "cell_type": "markdown",
      "metadata": {
        "id": "view-in-github",
        "colab_type": "text"
      },
      "source": [
        "<a href=\"https://colab.research.google.com/github/ShkliaevPavel/Portfolio/blob/Python/Study_project_%22Functions%22.ipynb\" target=\"_parent\"><img src=\"https://colab.research.google.com/assets/colab-badge.svg\" alt=\"Open In Colab\"/></a>"
      ]
    },
    {
      "cell_type": "markdown",
      "source": [
        "You need to help the secretary automate his work. To do this, you need to write a program that will execute custom commands based on the stored data.\n",
        "\n",
        "The source data has the following structure:"
      ],
      "metadata": {
        "id": "LxYwSssP64cC"
      }
    },
    {
      "cell_type": "code",
      "execution_count": 1,
      "metadata": {
        "id": "28-USx0e5n5U"
      },
      "outputs": [],
      "source": [
        "documents = [\n",
        "    {'type': 'passport', 'number': '2207 876234', 'name': 'Василий Гупкин'},\n",
        "    {'type': 'invoice', 'number': '11-2', 'name': 'Геннадий Покемонов'},\n",
        "    {'type': 'insurance', 'number': '10006', 'name': 'Аристарх Павлов'}\n",
        "]\n",
        "\n",
        "directories = {\n",
        "    '1': ['2207 876234', '11-2'],\n",
        "    '2': ['10006'],\n",
        "    '3': []\n",
        "}"
      ]
    },
    {
      "cell_type": "markdown",
      "source": [
        "General requirements for the program:\n",
        "* the code must be correctly decomposed (each function is responsible for its specific task, duplicate functionality is reused, and its code is not repeated);\n",
        "* there are no global variables in the code (except for documents and directories);\n",
        "* user input is processed in a while loop until the user explicitly terminates the program (by entering the \"q\" command).\n",
        "\n",
        "\n",
        "\n"
      ],
      "metadata": {
        "id": "UWtjGohN7GTN"
      }
    },
    {
      "cell_type": "markdown",
      "source": [
        "Exercise 1\n",
        "Point 1. Using the “p” command, the user can find out the owner of the document by its number"
      ],
      "metadata": {
        "id": "3ssOIKVC7VmD"
      }
    },
    {
      "cell_type": "code",
      "source": [
        "def name_by_number(i):\n",
        "    i = input('Enter document number: ')\n",
        "    found = False\n",
        "    for each_doc in documents:\n",
        "        if each_doc['number'] == i:\n",
        "            print(f\"Document owner: {each_doc['name']}\")\n",
        "            found = True\n",
        "    if not found:\n",
        "        print('Document is not found')"
      ],
      "metadata": {
        "id": "q3KCnmIkf3f2"
      },
      "execution_count": null,
      "outputs": []
    },
    {
      "cell_type": "markdown",
      "source": [
        "Point 2.\n",
        "\n",
        "Using the \"s\" command, the user can find out by the document number on which shelf it is stored"
      ],
      "metadata": {
        "id": "RIQlgyeHhwxa"
      }
    },
    {
      "cell_type": "code",
      "source": [
        "def directory_by_number(directories):\n",
        "  number = input('Enter document number: ')\n",
        "  found = False\n",
        "  for key, value in directories.items():\n",
        "    if number in value:\n",
        "      print(f\"Document stores at the shelf: {key}\")\n",
        "      found = True\n",
        "  if not found: print('Document is not found.')"
      ],
      "metadata": {
        "id": "u-lIUWZZvKkY"
      },
      "execution_count": null,
      "outputs": []
    },
    {
      "cell_type": "markdown",
      "source": [
        "Point 3.\n",
        "\n",
        "The user can use the \"l\" command to see complete information on all documents"
      ],
      "metadata": {
        "id": "YC7eX-Suwq-x"
      }
    },
    {
      "cell_type": "code",
      "source": [
        "def all_info():\n",
        "    for each_doc in documents:\n",
        "      dir = list(filter(lambda e: each_doc['number'] in e[1], directories.items()))[0]\n",
        "      #each_doc['directory'] = dir[0]\n",
        "      print(f\"№: {each_doc['number']}, type: {each_doc['type']}, owner:  {each_doc['name']}, directory: {dir[0]}\")\n",
        "\n",
        "all_info()"
      ],
      "metadata": {
        "id": "PvTiqTCtsAaI"
      },
      "execution_count": null,
      "outputs": []
    },
    {
      "cell_type": "markdown",
      "source": [
        "Point 4.\n",
        "\n",
        "The user can add a new shelf using the \"ads\" command"
      ],
      "metadata": {
        "id": "tK4lhuMFxOq3"
      }
    },
    {
      "cell_type": "code",
      "source": [
        "def new_directory_add(directories):\n",
        "  new_dir = input('Enter directory number: ')\n",
        "  if new_dir not in directories.keys():\n",
        "    directories[new_dir] = ''\n",
        "    new_dir_list = ','.join(list(directories.keys()))\n",
        "    print(f\"Directory has been added. Current directory list: {new_dir_list}.\")\n",
        "  else:\n",
        "    dir_list = ','.join(list(directories.keys()))\n",
        "    print(f\"Such directory already exists. Current directory list: {dir_list}.\")\n",
        "\n",
        "new_directory_add(directories)"
      ],
      "metadata": {
        "id": "u-uXf_otxXQv"
      },
      "execution_count": null,
      "outputs": []
    },
    {
      "cell_type": "markdown",
      "source": [
        "Point 5.\n",
        "\n",
        "The user can use the \"ds\" command to delete an existing shelf from the data (only if it is empty)"
      ],
      "metadata": {
        "id": "5_Z3w1Ct6iyd"
      }
    },
    {
      "cell_type": "code",
      "source": [
        "def delete_directory(directories):\n",
        "  dir_numb = input('Enter directory number: ')\n",
        "  if dir_numb in directories.keys():\n",
        "    if len(list(directories[dir_numb])) != 0:\n",
        "      dir_list = ','.join(list(directories.keys()))\n",
        "      print(f\"Directory contains documents, delete it before deleting the directory. Current directory list: {dir_list}.\")\n",
        "    else:\n",
        "      del directories[dir_numb]\n",
        "      dir_list = ','.join(list(directories.keys()))\n",
        "      print(f\"Directory has been deleted. Current directory list: {dir_list}.\")\n",
        "  else:\n",
        "    dir_list = ','.join(list(directories.keys()))\n",
        "    print(f\"Directory does not exist. Current directory list: {dir_list}.\")\n",
        "\n",
        "delete_directory(directories)"
      ],
      "metadata": {
        "id": "Rte5NL9z6kDE"
      },
      "execution_count": null,
      "outputs": []
    },
    {
      "cell_type": "code",
      "source": [
        "def main(documents):\n",
        "    while True:\n",
        "      comand = input('Enter command: ')\n",
        "\n",
        "      if comand == 'p':\n",
        "        name_by_number(documents)\n",
        "      elif comand == 's':\n",
        "        directory_by_number(directories)\n",
        "      elif comand == 'l':\n",
        "        all_info()\n",
        "      elif comand == 'ads':\n",
        "        new_directory_add(directories)\n",
        "      elif comand == 'ds':\n",
        "        delete_directory(directories)\n",
        "      elif comand == 'q':\n",
        "        print('Exit.')\n",
        "        break\n",
        "\n",
        "main(documents)"
      ],
      "metadata": {
        "id": "6jx7cUQCfbZ9"
      },
      "execution_count": null,
      "outputs": []
    }
  ]
}