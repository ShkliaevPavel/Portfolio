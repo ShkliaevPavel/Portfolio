{
  "nbformat": 4,
  "nbformat_minor": 0,
  "metadata": {
    "colab": {
      "provenance": [],
      "authorship_tag": "ABX9TyOAJxVVbdchikDaxBe1ybeA",
      "include_colab_link": true
    },
    "kernelspec": {
      "name": "python3",
      "display_name": "Python 3"
    },
    "language_info": {
      "name": "python"
    }
  },
  "cells": [
    {
      "cell_type": "markdown",
      "metadata": {
        "id": "view-in-github",
        "colab_type": "text"
      },
      "source": [
        "<a href=\"https://colab.research.google.com/github/ShkliaevPavel/Portfolio/blob/Python/Study_project_%22Working_with_the_file_system_and_modules%22.ipynb\" target=\"_parent\"><img src=\"https://colab.research.google.com/assets/colab-badge.svg\" alt=\"Open In Colab\"/></a>"
      ]
    },
    {
      "cell_type": "markdown",
      "source": [
        "Exercise 1.\n",
        "\n",
        "Translate the contents of the purchase_log.txt* file into a purchases dictionary of the form:\n",
        "{‘1840e0b9d4’: ‘Products’, …}"
      ],
      "metadata": {
        "id": "vquOsEaiNjTg"
      }
    },
    {
      "cell_type": "code",
      "execution_count": null,
      "metadata": {
        "id": "vzF3oc1WNd3z"
      },
      "outputs": [],
      "source": [
        "f = open('purchase_log.txt', 'r')"
      ]
    },
    {
      "cell_type": "code",
      "source": [
        "import json"
      ],
      "metadata": {
        "id": "kgs72E08Q0kq"
      },
      "execution_count": null,
      "outputs": []
    },
    {
      "cell_type": "code",
      "source": [
        "i = 0\n",
        "purchases = {}\n",
        "with open('purchase_log.txt') as f:\n",
        "  for line in f:\n",
        "    line = line.strip()\n",
        "    dict_ = json.loads(line)\n",
        "    key = dict_['user_id']\n",
        "    value = dict_['category']\n",
        "    purchases[key] = value\n",
        "    #i +=1\n",
        "    #if i >5:\n",
        "       #break\n",
        "\n",
        "#print(purchases)"
      ],
      "metadata": {
        "colab": {
          "base_uri": "https://localhost:8080/"
        },
        "id": "75mWhkCYU-3Q",
        "outputId": "5207c406-4d03-4580-a1c2-000d7def921a"
      },
      "execution_count": null,
      "outputs": [
        {
          "output_type": "stream",
          "name": "stdout",
          "text": [
            "{'user_id': 'category', '1840e0b9d4': 'Продукты', '4e4f90fcfb': 'Электроника', 'afea8d72fc': 'Электроника', '373a6055fe': 'Бытовая техника', '9b2ab046f3': 'Электроника'}\n"
          ]
        }
      ]
    },
    {
      "cell_type": "markdown",
      "source": [
        "Task 2.\n",
        "\n",
        "For each user_id in the visit_log.csv file, define the third column with the purchase category; if there was a purchase, the visit_log.csv* file itself does not need to be changed. Record visits from the visit_log.csv* file in the funnel.csv file in which there were purchases indicating the category.\n",
        "Please note the terms and conditions for the data:\n",
        "the contents of purchase_log.txt* are placed in the computer's RAM;\n",
        "contents of visit_log.csv* - none; use only line-by-line processing of this file."
      ],
      "metadata": {
        "id": "ApRBj2ovNrWw"
      }
    },
    {
      "cell_type": "code",
      "source": [
        "f2 = open('visit_log.csv', 'r')"
      ],
      "metadata": {
        "id": "ui602UsbQ2On"
      },
      "execution_count": null,
      "outputs": []
    },
    {
      "cell_type": "code",
      "source": [
        "with open('visit_log.csv', 'r') as f, open('funnel.csv', 'w') as f2:\n",
        "  for i, line in enumerate(f):\n",
        "    line = line.strip().split(',')\n",
        "    if line[0] in purchases.keys():\n",
        "      line.append(purchases[line[0]])\n",
        "      ad_line = ','.join(line)\n",
        "      f2.write(ad_line + '\\n')"
      ],
      "metadata": {
        "id": "KOi-Q2YBmp2T"
      },
      "execution_count": null,
      "outputs": []
    },
    {
      "cell_type": "code",
      "source": [
        "a = 0\n",
        "b = open('funnel.csv', 'r')\n",
        "for q in b:\n",
        "  print(q)\n",
        "  a+=1\n",
        "  if a >5:\n",
        "    break"
      ],
      "metadata": {
        "colab": {
          "base_uri": "https://localhost:8080/"
        },
        "id": "zkIwtU97oUCX",
        "outputId": "14dcdca9-bc79-4e70-9cfe-3087f80112a3"
      },
      "execution_count": null,
      "outputs": [
        {
          "output_type": "stream",
          "name": "stdout",
          "text": [
            "user_id,source,category\n",
            "\n",
            "1840e0b9d4,other,Продукты\n",
            "\n",
            "4e4f90fcfb,context,Электроника\n",
            "\n",
            "afea8d72fc,other,Электроника\n",
            "\n",
            "373a6055fe,other,Бытовая техника\n",
            "\n",
            "9b2ab046f3,other,Электроника\n",
            "\n"
          ]
        }
      ]
    }
  ]
}