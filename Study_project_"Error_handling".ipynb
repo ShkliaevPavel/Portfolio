{
  "nbformat": 4,
  "nbformat_minor": 0,
  "metadata": {
    "colab": {
      "provenance": [],
      "authorship_tag": "ABX9TyMt2EgKru60tMf1BPNL+Ied",
      "include_colab_link": true
    },
    "kernelspec": {
      "name": "python3",
      "display_name": "Python 3"
    },
    "language_info": {
      "name": "python"
    }
  },
  "cells": [
    {
      "cell_type": "markdown",
      "metadata": {
        "id": "view-in-github",
        "colab_type": "text"
      },
      "source": [
        "<a href=\"https://colab.research.google.com/github/ShkliaevPavel/Portfolio/blob/Python/Study_project_%22Error_handling%22.ipynb\" target=\"_parent\"><img src=\"https://colab.research.google.com/assets/colab-badge.svg\" alt=\"Open In Colab\"/></a>"
      ]
    },
    {
      "cell_type": "markdown",
      "source": [
        "Exercise 1\n",
        "\n",
        "Print newspapers used a different date format for each issue. For each newspaper in the list, write the format of the specified date to be converted into a datetime object:\n",
        "The Moscow Times - Wednesday, October 2, 2002\n",
        "The Guardian - Friday, 10/11/13\n",
        "Daily News - Thursday, 18 August 1977"
      ],
      "metadata": {
        "id": "czXAAJexgmAa"
      }
    },
    {
      "cell_type": "code",
      "execution_count": null,
      "metadata": {
        "id": "oSye0q-tcmZU"
      },
      "outputs": [],
      "source": [
        "from datetime import datetime"
      ]
    },
    {
      "cell_type": "code",
      "source": [
        "The_Moscow_Times = datetime.strptime('Wednesday, October 02, 2002', '%A, %B %d, %Y')\n",
        "The_Moscow_Times"
      ],
      "metadata": {
        "id": "yRUwDvCXhUN5",
        "colab": {
          "base_uri": "https://localhost:8080/"
        },
        "outputId": "5bedfca7-24be-4224-e006-8799c3ee08ee"
      },
      "execution_count": null,
      "outputs": [
        {
          "output_type": "execute_result",
          "data": {
            "text/plain": [
              "datetime.datetime(2002, 10, 2, 0, 0)"
            ]
          },
          "metadata": {},
          "execution_count": 31
        }
      ]
    },
    {
      "cell_type": "code",
      "source": [
        "The_Guardian = datetime.strptime('Friday, 11.10.13', '%A, %d.%m.%y')\n",
        "The_Guardian"
      ],
      "metadata": {
        "colab": {
          "base_uri": "https://localhost:8080/"
        },
        "id": "INRoXGEOpPD1",
        "outputId": "3bc93f76-24dd-49c6-f163-261d652d099a"
      },
      "execution_count": null,
      "outputs": [
        {
          "output_type": "execute_result",
          "data": {
            "text/plain": [
              "datetime.datetime(2013, 10, 11, 0, 0)"
            ]
          },
          "metadata": {},
          "execution_count": 32
        }
      ]
    },
    {
      "cell_type": "code",
      "source": [
        "Daily_News = datetime.strptime('Thursday, 18 August 1977', '%A, %d %B %Y')\n",
        "Daily_News"
      ],
      "metadata": {
        "colab": {
          "base_uri": "https://localhost:8080/"
        },
        "id": "qs8bm9eYqNIt",
        "outputId": "1c0b2988-e7c6-4364-8747-0a74df627954"
      },
      "execution_count": null,
      "outputs": [
        {
          "output_type": "execute_result",
          "data": {
            "text/plain": [
              "datetime.datetime(1977, 8, 18, 0, 0)"
            ]
          },
          "metadata": {},
          "execution_count": 33
        }
      ]
    },
    {
      "cell_type": "markdown",
      "source": [
        "Task 2\n",
        "\n",
        "Given is a stream of dates in the YYYY-MM-DD format that contain incorrect values:\n",
        "stream = ['2018-04-02', '2018-02-29', '2018-19-02']\n",
        "\n",
        "Write a function that checks these dates for correctness. That is, for each date it returns \"True\" - the date is correct or \"False\" - incorrect."
      ],
      "metadata": {
        "id": "ItBbB5l7r-UM"
      }
    },
    {
      "cell_type": "code",
      "source": [
        "stream = ['2018-04-02', '2018-02-29', '2018-19-02']"
      ],
      "metadata": {
        "id": "b5uHxR2RsT5P"
      },
      "execution_count": null,
      "outputs": []
    },
    {
      "cell_type": "code",
      "source": [
        "for i in stream:\n",
        "  try:\n",
        "    if type(datetime.strptime(i, '%Y-%m-%d')) == datetime:\n",
        "      print(i, 'True')\n",
        "  except:\n",
        "    print(i, 'False')"
      ],
      "metadata": {
        "colab": {
          "base_uri": "https://localhost:8080/"
        },
        "id": "4Zn8ts9nwtd-",
        "outputId": "8eb11de9-93e3-4065-e18d-b945bf7c9137"
      },
      "execution_count": null,
      "outputs": [
        {
          "output_type": "stream",
          "name": "stdout",
          "text": [
            "2018-04-02 True\n",
            "2018-02-29 False\n",
            "2018-19-02 False\n"
          ]
        }
      ]
    },
    {
      "cell_type": "markdown",
      "source": [
        "Task 3\n",
        "\n",
        "Write a date_range function that returns a list of dates from start_date to end_date.\n",
        "\n",
        "Dates must be entered in the format YYYY-MM-DD.\n",
        "\n",
        "If the format is invalid or if start_date > end_date, an empty list should be returned."
      ],
      "metadata": {
        "id": "4Ht1cln2xTWT"
      }
    },
    {
      "cell_type": "code",
      "source": [
        "from datetime import timedelta\n",
        "from datetime import date, timedelta\n",
        "import pandas as pd"
      ],
      "metadata": {
        "id": "Tkmr6g6k2mTT"
      },
      "execution_count": 1,
      "outputs": []
    },
    {
      "cell_type": "code",
      "source": [
        "def date_range(start_date, end_date):\n",
        "  try:\n",
        "    if start_date <= end_date:\n",
        "       dt_st_date = date(int(start_date[0:4]), int(start_date[5:7]), int(start_date[9:]))\n",
        "       dt_end_date = date(int(end_date[0:4]), int(end_date[5:7]), int(end_date[9:]))\n",
        "       delta = dt_end_date-dt_st_date\n",
        "       for el in range(delta.days + 1):\n",
        "          print(dt_st_date + timedelta(el))\n",
        "    else: print([])\n",
        "  except:\n",
        "      print([])"
      ],
      "metadata": {
        "id": "Oz4iuLy3BSOA"
      },
      "execution_count": 2,
      "outputs": []
    },
    {
      "cell_type": "code",
      "source": [
        "start_date = input('Enter start date using template YYYY-MM-DD: ')\n",
        "end_date = input('Enter start date using template YYYY-MM-DD: ')\n",
        "\n",
        "date_range(start_date, end_date)"
      ],
      "metadata": {
        "colab": {
          "base_uri": "https://localhost:8080/"
        },
        "id": "QyF0_6OLHFSM",
        "outputId": "7bf1b9e3-1109-4267-b799-c277ae70c056"
      },
      "execution_count": 3,
      "outputs": [
        {
          "output_type": "stream",
          "name": "stdout",
          "text": [
            "Enter start date using template YYYY-MM-DD: 2023-01-01\n",
            "Enter start date using template YYYY-MM-DD: 2023-02-15\n",
            "2023-01-01\n",
            "2023-01-02\n",
            "2023-01-03\n",
            "2023-01-04\n",
            "2023-01-05\n",
            "2023-01-06\n",
            "2023-01-07\n",
            "2023-01-08\n",
            "2023-01-09\n",
            "2023-01-10\n",
            "2023-01-11\n",
            "2023-01-12\n",
            "2023-01-13\n",
            "2023-01-14\n",
            "2023-01-15\n",
            "2023-01-16\n",
            "2023-01-17\n",
            "2023-01-18\n",
            "2023-01-19\n",
            "2023-01-20\n",
            "2023-01-21\n",
            "2023-01-22\n",
            "2023-01-23\n",
            "2023-01-24\n",
            "2023-01-25\n",
            "2023-01-26\n",
            "2023-01-27\n",
            "2023-01-28\n",
            "2023-01-29\n",
            "2023-01-30\n",
            "2023-01-31\n",
            "2023-02-01\n",
            "2023-02-02\n",
            "2023-02-03\n",
            "2023-02-04\n",
            "2023-02-05\n"
          ]
        }
      ]
    },
    {
      "cell_type": "markdown",
      "source": [
        "Task 4\n",
        "Your colleague sent the function code:\n",
        "\n",
        "DEFAULT_USER_COUNT = 3\n",
        "\n",
        "def delete_and_return_last_user(region, default_list=[‘A100’, ‘A101’, ‘A102’]):\n",
        "\n",
        "\"\"“\n",
        "Removes the last user from the default_list\n",
        "and returns the ID of the new last user.\n",
        "\"\"\"\n",
        "\n",
        "element_to_delete = default_list[-1]\n",
        "default_list.remove(element_to_delete)\n",
        "\n",
        "1\n",
        "return default_list[DEFAULT_USER_COUNT-2]\n",
        "\n",
        "When this function is called once, everything works correctly:\n",
        "delete_and_return_last_user(1)\n",
        "'A101'\n",
        "\n",
        "However, when called again, the error is IndexError: list index out of range.\n",
        "\n",
        "Exercise:\n",
        "\n",
        "What does the list index out of range error mean?\n",
        "Why does the function work correctly the first time I run it, but not the second time?"
      ],
      "metadata": {
        "id": "htGgaR7E-smo"
      }
    },
    {
      "cell_type": "code",
      "source": [
        "DEFAULT_USER_COUNT = 3\n",
        "\n",
        "def delete_and_return_last_user(region, default_list=['A100', 'A101', 'A102']):\n",
        "\n",
        "#Удаляет из списка default_list последнего пользователя и возвращает ID нового последнего пользователя.\n",
        "\n",
        "  element_to_delete = default_list[-1]\n",
        "  default_list.remove(element_to_delete)\n",
        "  return default_list[DEFAULT_USER_COUNT-2]"
      ],
      "metadata": {
        "id": "5MwxiOUa-uir"
      },
      "execution_count": 4,
      "outputs": []
    },
    {
      "cell_type": "code",
      "source": [
        "delete_and_return_last_user(1)"
      ],
      "metadata": {
        "id": "_JODduKJC2B5",
        "colab": {
          "base_uri": "https://localhost:8080/",
          "height": 35
        },
        "outputId": "9117bf00-acfc-48ef-ceb3-93900c1f6c38"
      },
      "execution_count": 5,
      "outputs": [
        {
          "output_type": "execute_result",
          "data": {
            "text/plain": [
              "'A101'"
            ],
            "application/vnd.google.colaboratory.intrinsic+json": {
              "type": "string"
            }
          },
          "metadata": {},
          "execution_count": 5
        }
      ]
    },
    {
      "cell_type": "markdown",
      "source": [
        "1. What does the list index out of range error mean?\n",
        "    \n",
        "     The error means that the index you are looking for is not in the default_list\n",
        "\n",
        "2. Why does the function work correctly the first time you run it, but not the second time?\n",
        "\n",
        "    When you run it for the first time, 2 elements remain in the default_list list, the result is default_list[1], when you run it again, only 1 element with index [0] remains in the list."
      ],
      "metadata": {
        "id": "mpu_1KbvC2ll"
      }
    },
    {
      "cell_type": "code",
      "source": [
        "# Предлагаемый вариант кода\n",
        "\n",
        "def delete_and_return_last_user_corr(region, default_list=['A100', 'A101', 'A102']):\n",
        "  try:\n",
        "    element_to_delete = default_list[-1]\n",
        "    default_list.remove(element_to_delete)\n",
        "    return default_list[-1]\n",
        "  except:\n",
        "    print('default_list does not have more elements')"
      ],
      "metadata": {
        "id": "D2Jmc06pDhF7"
      },
      "execution_count": 6,
      "outputs": []
    },
    {
      "cell_type": "code",
      "source": [
        "delete_and_return_last_user_corr(1)"
      ],
      "metadata": {
        "colab": {
          "base_uri": "https://localhost:8080/"
        },
        "id": "IxWSpNNCEMCA",
        "outputId": "5a661093-514d-43eb-8a14-f2b071bcf10a"
      },
      "execution_count": 9,
      "outputs": [
        {
          "output_type": "stream",
          "name": "stdout",
          "text": [
            "default_list does not have more elements\n"
          ]
        }
      ]
    }
  ]
}