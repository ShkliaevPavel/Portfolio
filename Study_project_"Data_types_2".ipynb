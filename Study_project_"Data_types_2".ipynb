{
  "cells": [
    {
      "cell_type": "markdown",
      "metadata": {
        "id": "view-in-github",
        "colab_type": "text"
      },
      "source": [
        "<a href=\"https://colab.research.google.com/github/ShkliaevPavel/Portfolio/blob/Python/Study_project_%22Data_types_2%22.ipynb\" target=\"_parent\"><img src=\"https://colab.research.google.com/assets/colab-badge.svg\" alt=\"Open In Colab\"/></a>"
      ]
    },
    {
      "cell_type": "markdown",
      "metadata": {
        "id": "9YrvdVnjMJml"
      },
      "source": [
        "Exercise 1\n",
        "\n",
        "A variable is given that stores a dictionary containing geo-tags for each user (an example of the data structure is given below).\n",
        "\n",
        "You need to write a program that will display a set of unique geo-tags for all users."
      ]
    },
    {
      "cell_type": "code",
      "execution_count": null,
      "metadata": {
        "id": "U5_5QODBMFEV"
      },
      "outputs": [],
      "source": [
        "ids = {'user1': [213, 213, 213, 15, 213],\n",
        "       'user2': [54, 54, 119, 119, 119],\n",
        "       'user3': [213, 98, 98, 35]}"
      ]
    },
    {
      "cell_type": "code",
      "source": [
        "print(set(sum(ids.values(),[])))\n",
        "print(sum(ids.values(),[]))"
      ],
      "metadata": {
        "colab": {
          "base_uri": "https://localhost:8080/"
        },
        "id": "xmgvq6oxdpcL",
        "outputId": "264bdd1a-4ab7-4223-9584-5314d8d0796d"
      },
      "execution_count": null,
      "outputs": [
        {
          "output_type": "stream",
          "name": "stdout",
          "text": [
            "{98, 35, 15, 213, 54, 119}\n",
            "[213, 213, 213, 15, 213, 54, 54, 119, 119, 119, 213, 98, 98, 35]\n"
          ]
        }
      ]
    },
    {
      "cell_type": "code",
      "execution_count": null,
      "metadata": {
        "colab": {
          "base_uri": "https://localhost:8080/"
        },
        "id": "8WTv9rxyY9c2",
        "outputId": "ed5da0ef-9068-453b-908b-2691102dd814"
      },
      "outputs": [
        {
          "name": "stdout",
          "output_type": "stream",
          "text": [
            "{98, 35, 15, 213, 54, 119}\n"
          ]
        }
      ],
      "source": [
        "res = []\n",
        "for i in ids.values():\n",
        " [res.append(each_i) for each_i in i if each_i not in res]\n",
        "\n",
        "print(set(res))"
      ]
    },
    {
      "cell_type": "code",
      "execution_count": null,
      "metadata": {
        "colab": {
          "base_uri": "https://localhost:8080/"
        },
        "id": "4sStMIQhfLwc",
        "outputId": "24a1dd0d-de2f-4dcc-9d9e-40a32953eb48"
      },
      "outputs": [
        {
          "name": "stdout",
          "output_type": "stream",
          "text": [
            "{98, 35, 213, 54, 119, 15}\n"
          ]
        }
      ],
      "source": [
        "res = set()\n",
        "\n",
        "for i in ids.values():\n",
        "    res = res.union(set(i))\n",
        "\n",
        "print(res)"
      ]
    },
    {
      "cell_type": "markdown",
      "metadata": {
        "id": "mdoa9uXL4fwq"
      },
      "source": [
        "Task 2\n",
        "\n",
        "A variable is given that stores a list of user search queries (an example of the data structure is given below, but the queries could potentially be any).\n",
        "\n",
        "You need to write a program that will display the distribution of the number of words in queries in the required form."
      ]
    },
    {
      "cell_type": "code",
      "execution_count": null,
      "metadata": {
        "id": "ttia1uy24eJ2"
      },
      "outputs": [],
      "source": [
        "queries = [\n",
        "    'смотреть сериалы онлайн',\n",
        "    'новости спорта',\n",
        "    'афиша кино',\n",
        "    'курс доллара',\n",
        "    'сериалы этим летом',\n",
        "    'курс по питону',\n",
        "    'сериалы про спорт',\n",
        "]"
      ]
    },
    {
      "cell_type": "code",
      "execution_count": null,
      "metadata": {
        "colab": {
          "base_uri": "https://localhost:8080/"
        },
        "id": "GzOeENV7OGfT",
        "outputId": "fee57c9c-fa1a-49d0-8970-bb0957d01967"
      },
      "outputs": [
        {
          "output_type": "stream",
          "name": "stdout",
          "text": [
            "Поисковых запросов, содержащих 2, слов(а): 42.86%\n",
            "Поисковых запросов, содержащих 3, слов(а): 57.14%\n"
          ]
        }
      ],
      "source": [
        "query_length_list = []\n",
        "[query_length_list.append(len(each_query.split())) for each_query in queries]\n",
        "for each_x in set(query_length_list):\n",
        "    print(f'Поисковых запросов, содержащих {each_x}, слов(а): {query_length_list.count(each_x)/len(queries) :.2%}')"
      ]
    },
    {
      "cell_type": "markdown",
      "metadata": {
        "id": "AbYUrkCYQpTc"
      },
      "source": [
        "Task 3\n",
        "\n",
        "Given a variable that stores information about costs and\n",
        "income from advertising campaigns from various sources.\n",
        "\n",
        "It is necessary to supplement the original structure with an ROI indicator, which is calculated using the formula: ((revenue / cost) - 1) * 100"
      ]
    },
    {
      "cell_type": "code",
      "execution_count": null,
      "metadata": {
        "id": "xwC4KxlBQltf"
      },
      "outputs": [],
      "source": [
        "results = {\n",
        "    'vk': {'revenue': 103, 'cost': 98},\n",
        "    'yandex': {'revenue': 179, 'cost': 153},\n",
        "    'facebook': {'revenue': 103, 'cost': 110},\n",
        "    'adwords': {'revenue': 35, 'cost': 34},\n",
        "    'twitter': {'revenue': 11, 'cost': 24},\n",
        "}"
      ]
    },
    {
      "cell_type": "code",
      "execution_count": null,
      "metadata": {
        "colab": {
          "base_uri": "https://localhost:8080/"
        },
        "id": "Q6j179jeURFX",
        "outputId": "fb236c59-78b1-44d2-840e-38a2d608c416"
      },
      "outputs": [
        {
          "output_type": "stream",
          "name": "stdout",
          "text": [
            "{'vk': {'revenue': 103, 'cost': 98, 'ROI': '5.10'}, 'yandex': {'revenue': 179, 'cost': 153, 'ROI': '16.99'}, 'facebook': {'revenue': 103, 'cost': 110, 'ROI': '-6.36'}, 'adwords': {'revenue': 35, 'cost': 34, 'ROI': '2.94'}, 'twitter': {'revenue': 11, 'cost': 24, 'ROI': '-54.17'}}\n"
          ]
        }
      ],
      "source": [
        "for each_company in results.values():\n",
        "  each_company['ROI']=(f\"{((each_company['revenue'] / each_company['cost'])-1)*100:.2f}\")\n",
        "print(results)"
      ]
    },
    {
      "cell_type": "code",
      "execution_count": null,
      "metadata": {
        "colab": {
          "base_uri": "https://localhost:8080/"
        },
        "id": "8WzHqtKTYQFn",
        "outputId": "e3302cfd-9f94-450a-8fc5-03d803678144"
      },
      "outputs": [
        {
          "output_type": "stream",
          "name": "stdout",
          "text": [
            "[('adwords', {'ROI': '2.94', 'cost': 34, 'revenue': 35}),\n",
            " ('facebook', {'ROI': '-6.36', 'cost': 110, 'revenue': 103}),\n",
            " ('twitter', {'ROI': '-54.17', 'cost': 24, 'revenue': 11}),\n",
            " ('vk', {'ROI': '5.10', 'cost': 98, 'revenue': 103}),\n",
            " ('yandex', {'ROI': '16.99', 'cost': 153, 'revenue': 179})]\n"
          ]
        }
      ],
      "source": [
        "import pprint\n",
        "\n",
        "pprint.pprint(sorted(results.items()))"
      ]
    },
    {
      "cell_type": "code",
      "execution_count": null,
      "metadata": {
        "colab": {
          "base_uri": "https://localhost:8080/"
        },
        "id": "txbhEKFOZ3wA",
        "outputId": "d7a6e748-8071-4332-a7bb-0d84e087df41"
      },
      "outputs": [
        {
          "output_type": "stream",
          "name": "stdout",
          "text": [
            "{\n",
            "  \"adwords\": {\n",
            "    \"ROI\": \"2.94\",\n",
            "    \"cost\": 34,\n",
            "    \"revenue\": 35\n",
            "  },\n",
            "  \"facebook\": {\n",
            "    \"ROI\": \"-6.36\",\n",
            "    \"cost\": 110,\n",
            "    \"revenue\": 103\n",
            "  },\n",
            "  \"twitter\": {\n",
            "    \"ROI\": \"-54.17\",\n",
            "    \"cost\": 24,\n",
            "    \"revenue\": 11\n",
            "  },\n",
            "  \"vk\": {\n",
            "    \"ROI\": \"5.10\",\n",
            "    \"cost\": 98,\n",
            "    \"revenue\": 103\n",
            "  },\n",
            "  \"yandex\": {\n",
            "    \"ROI\": \"16.99\",\n",
            "    \"cost\": 153,\n",
            "    \"revenue\": 179\n",
            "  }\n",
            "}\n"
          ]
        }
      ],
      "source": [
        "import json\n",
        "print(json.dumps(results, indent =2, sort_keys = True))"
      ]
    },
    {
      "cell_type": "code",
      "execution_count": null,
      "metadata": {
        "colab": {
          "base_uri": "https://localhost:8080/"
        },
        "id": "HORL9KNpbFwg",
        "outputId": "e20edf79-5dab-4015-92e7-914914014151"
      },
      "outputs": [
        {
          "output_type": "stream",
          "name": "stdout",
          "text": [
            "('adwords', {'revenue': 35, 'cost': 34, 'ROI': '2.94'})\n",
            "('facebook', {'revenue': 103, 'cost': 110, 'ROI': '-6.36'})\n",
            "('twitter', {'revenue': 11, 'cost': 24, 'ROI': '-54.17'})\n",
            "('vk', {'revenue': 103, 'cost': 98, 'ROI': '5.10'})\n",
            "('yandex', {'revenue': 179, 'cost': 153, 'ROI': '16.99'})\n"
          ]
        }
      ],
      "source": [
        "print(*sorted(results.items()), sep = '\\n')"
      ]
    },
    {
      "cell_type": "markdown",
      "metadata": {
        "id": "g6X6Lrz5cp86"
      },
      "source": [
        "Task 4\n",
        "\n",
        "A variable is given that stores statistics of advertising channels by sales volume (an example of the data structure is given below).\n",
        "\n",
        "Write a program that returns the name of the channel with the maximum sales volume."
      ]
    },
    {
      "cell_type": "code",
      "execution_count": 1,
      "metadata": {
        "id": "84xFwLkOcpgI"
      },
      "outputs": [],
      "source": [
        "stats = {'facebook': 55, 'yandex': 115, 'vk': 120, 'google': 99, 'email': 42, 'ok': 98}"
      ]
    },
    {
      "cell_type": "code",
      "execution_count": 2,
      "metadata": {
        "colab": {
          "base_uri": "https://localhost:8080/"
        },
        "id": "optpvyWRdCjq",
        "outputId": "3e85ea8b-1ca3-4b95-dcbb-322e18401c00"
      },
      "outputs": [
        {
          "output_type": "stream",
          "name": "stdout",
          "text": [
            "Maximum sales on a channel: vk\n"
          ]
        }
      ],
      "source": [
        "print(f'Maximum sales on a channel: {max(stats, key=stats.get)}')"
      ]
    },
    {
      "cell_type": "markdown",
      "metadata": {
        "id": "m0Z0tdh3nHiw"
      },
      "source": [
        "Task 5\n",
        "\n",
        "Given a list of arbitrary length.\n",
        "It is necessary to write code that, based on the source list, will create a dictionary of such a nesting level as the length of the source list."
      ]
    },
    {
      "cell_type": "code",
      "execution_count": null,
      "metadata": {
        "id": "ekqXvpdxnJOm"
      },
      "outputs": [],
      "source": [
        "my_list = ['2018-01-01', 'yandex', 'cpc', 100]\n",
        "\n",
        "#my_list = ['a', 'b', 'c', 'd', 'e', 'f']"
      ]
    },
    {
      "cell_type": "code",
      "execution_count": null,
      "metadata": {
        "colab": {
          "base_uri": "https://localhost:8080/"
        },
        "id": "6aEoUTzwca1H",
        "outputId": "8e755d23-7265-4d4b-e6b7-b2583dfe138e"
      },
      "outputs": [
        {
          "output_type": "stream",
          "name": "stdout",
          "text": [
            "{'2018-01-01': {'yandex': {'cpc': {'cpc': 100}}}}\n"
          ]
        }
      ],
      "source": [
        "new_key_index = -1\n",
        "i = 1\n",
        "dict_length = len(my_list) -1\n",
        "new_dict = dict.fromkeys([my_list[new_key_index-1]],my_list[new_key_index])\n",
        "\n",
        "while i <= dict_length:\n",
        "    new_dict = dict.fromkeys([my_list[new_key_index-1]],new_dict)\n",
        "    i += 1\n",
        "    new_key_index -= 1\n",
        "\n",
        "print(new_dict)"
      ]
    },
    {
      "cell_type": "markdown",
      "metadata": {
        "id": "11vtK0ZidrXR"
      },
      "source": [
        "Task 6\n",
        "\n",
        "A recipe book is given with information about how many ingredients are needed to prepare a dish per serving (an example of data is presented below).\n",
        "\n",
        "Write a program that will ask the user for the number of servings to prepare these dishes and display information about the total amount of required ingredients in the specified form.\n",
        "\n",
        "Attention! Identical ingredients with different dimensions must be counted separately!"
      ]
    },
    {
      "cell_type": "code",
      "source": [
        "cook_book = {\n",
        "  'салат': [\n",
        "     {'ingridient_name': 'сыр', 'quantity': 50, 'measure': 'гр'},\n",
        "     {'ingridient_name': 'томаты', 'quantity': 2, 'measure': 'шт'},\n",
        "     {'ingridient_name': 'огурцы', 'quantity': 20, 'measure': 'гр'},\n",
        "     {'ingridient_name': 'маслины', 'quantity': 10, 'measure': 'гр'},\n",
        "     {'ingridient_name': 'оливковое масло', 'quantity': 20, 'measure': 'мл'},\n",
        "     {'ingridient_name': 'салат', 'quantity': 10, 'measure': 'гр'},\n",
        "     {'ingridient_name': 'перец', 'quantity': 20, 'measure': 'гр'}\n",
        "    ],\n",
        "  'пицца': [\n",
        "     {'ingridient_name': 'сыр', 'quantity': 20, 'measure': 'гр'},\n",
        "     {'ingridient_name': 'колбаса', 'quantity': 30, 'measure': 'гр'},\n",
        "     {'ingridient_name': 'бекон', 'quantity': 30, 'measure': 'гр'},\n",
        "     {'ingridient_name': 'оливки', 'quantity': 10, 'measure': 'гр'},\n",
        "     {'ingridient_name': 'томаты', 'quantity': 20, 'measure': 'гр'},\n",
        "     {'ingridient_name': 'тесто', 'quantity': 100, 'measure': 'гр'},\n",
        "    ],\n",
        "  'лимонад': [\n",
        "     {'ingridient_name': 'лимон', 'quantity': 1, 'measure': 'шт'},\n",
        "     {'ingridient_name': 'вода', 'quantity': 200, 'measure': 'мл'},\n",
        "     {'ingridient_name': 'сахар', 'quantity': 10, 'measure': 'гр'},\n",
        "     {'ingridient_name': 'лайм', 'quantity': 20, 'measure': 'гр'},\n",
        "    ]\n",
        "}"
      ],
      "metadata": {
        "id": "EQ0MW98Hi2vG"
      },
      "execution_count": null,
      "outputs": []
    },
    {
      "cell_type": "code",
      "execution_count": null,
      "metadata": {
        "colab": {
          "base_uri": "https://localhost:8080/"
        },
        "id": "RJNGgngJgQ_o",
        "outputId": "3a6862bd-5eec-4aef-8eee-2e713db6a236"
      },
      "outputs": [
        {
          "name": "stdout",
          "output_type": "stream",
          "text": [
            "3\n"
          ]
        }
      ],
      "source": [
        "person = int(input())"
      ]
    },
    {
      "cell_type": "code",
      "source": [
        "shop_dict = {}\n",
        "\n",
        "for each_dish in cook_book.values():\n",
        "  for each_ingridient in each_dish:\n",
        "      key = (each_ingridient['ingridient_name'], each_ingridient['measure'])\n",
        "      if key not in shop_dict:\n",
        "        shop_dict[key] = each_ingridient['quantity'] * person\n",
        "      else:\n",
        "        shop_dict[key] += each_ingridient['quantity'] * person\n",
        "\n",
        "for ingridient, amount in shop_dict.items():\n",
        "  print(ingridient[0].capitalize() + ':', amount, ingridient[1])"
      ],
      "metadata": {
        "colab": {
          "base_uri": "https://localhost:8080/"
        },
        "id": "Ix5L-JqcJrev",
        "outputId": "1417cc5e-50bc-41cf-b8e5-21812a3fa7b9"
      },
      "execution_count": null,
      "outputs": [
        {
          "output_type": "stream",
          "name": "stdout",
          "text": [
            "Сыр: 210 гр\n",
            "Томаты: 6 шт\n",
            "Огурцы: 60 гр\n",
            "Маслины: 30 гр\n",
            "Оливковое масло: 60 мл\n",
            "Салат: 30 гр\n",
            "Перец: 60 гр\n",
            "Колбаса: 90 гр\n",
            "Бекон: 90 гр\n",
            "Оливки: 30 гр\n",
            "Томаты: 60 гр\n",
            "Тесто: 300 гр\n",
            "Лимон: 3 шт\n",
            "Вода: 600 мл\n",
            "Сахар: 30 гр\n",
            "Лайм: 60 гр\n"
          ]
        }
      ]
    },
    {
      "cell_type": "code",
      "source": [
        "print(sum(cook_book.values(),[]))"
      ],
      "metadata": {
        "colab": {
          "base_uri": "https://localhost:8080/"
        },
        "id": "XwvWRVfAeGQj",
        "outputId": "79e88592-0bb7-4b99-c150-35b7fec81979"
      },
      "execution_count": null,
      "outputs": [
        {
          "output_type": "stream",
          "name": "stdout",
          "text": [
            "[{'ingridient_name': 'сыр', 'quantity': 50, 'measure': 'гр'}, {'ingridient_name': 'томаты', 'quantity': 2, 'measure': 'шт'}, {'ingridient_name': 'огурцы', 'quantity': 20, 'measure': 'гр'}, {'ingridient_name': 'маслины', 'quantity': 10, 'measure': 'гр'}, {'ingridient_name': 'оливковое масло', 'quantity': 20, 'measure': 'мл'}, {'ingridient_name': 'салат', 'quantity': 10, 'measure': 'гр'}, {'ingridient_name': 'перец', 'quantity': 20, 'measure': 'гр'}, {'ingridient_name': 'сыр', 'quantity': 20, 'measure': 'гр'}, {'ingridient_name': 'колбаса', 'quantity': 30, 'measure': 'гр'}, {'ingridient_name': 'бекон', 'quantity': 30, 'measure': 'гр'}, {'ingridient_name': 'оливки', 'quantity': 10, 'measure': 'гр'}, {'ingridient_name': 'томаты', 'quantity': 20, 'measure': 'гр'}, {'ingridient_name': 'тесто', 'quantity': 100, 'measure': 'гр'}, {'ingridient_name': 'лимон', 'quantity': 1, 'measure': 'шт'}, {'ingridient_name': 'вода', 'quantity': 200, 'measure': 'мл'}, {'ingridient_name': 'сахар', 'quantity': 10, 'measure': 'гр'}, {'ingridient_name': 'лайм', 'quantity': 20, 'measure': 'гр'}]\n"
          ]
        }
      ]
    },
    {
      "cell_type": "code",
      "source": [
        "numb_servings = int(input('Укажите количество порций: '))\n",
        "quantity_book = {}\n",
        "\n",
        "for ingr_book in sum(cook_book.values(),[]):\n",
        "  ingr_key = (ingr_book['ingridient_name'], ingr_book['measure'])\n",
        "  quantity_book[ingr_key] = quantity_book.get(ingr_key, 0) + ingr_book['quantity']\n",
        "\n",
        "for (ingr_name, measure), quantity in quantity_book.items():\n",
        "  print(f'{ingr_name.capitalize()}: {quantity * numb_servings} {measure}')\n"
      ],
      "metadata": {
        "colab": {
          "base_uri": "https://localhost:8080/"
        },
        "id": "FehXXzF5eeqU",
        "outputId": "bc131595-cd77-4cb5-be98-9ff7f569a573"
      },
      "execution_count": null,
      "outputs": [
        {
          "output_type": "stream",
          "name": "stdout",
          "text": [
            "Укажите количество порций: 3\n",
            "Сыр: 210 гр\n",
            "Томаты: 6 шт\n",
            "Огурцы: 60 гр\n",
            "Маслины: 30 гр\n",
            "Оливковое масло: 60 мл\n",
            "Салат: 30 гр\n",
            "Перец: 60 гр\n",
            "Колбаса: 90 гр\n",
            "Бекон: 90 гр\n",
            "Оливки: 30 гр\n",
            "Томаты: 60 гр\n",
            "Тесто: 300 гр\n",
            "Лимон: 3 шт\n",
            "Вода: 600 мл\n",
            "Сахар: 30 гр\n",
            "Лайм: 60 гр\n"
          ]
        }
      ]
    }
  ],
  "metadata": {
    "colab": {
      "provenance": [],
      "authorship_tag": "ABX9TyPnzSthuo3+IHAHecPGcC2k",
      "include_colab_link": true
    },
    "kernelspec": {
      "display_name": "Python 3",
      "name": "python3"
    },
    "language_info": {
      "name": "python"
    }
  },
  "nbformat": 4,
  "nbformat_minor": 0
}